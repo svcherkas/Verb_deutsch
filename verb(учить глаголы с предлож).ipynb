{
  "cells": [
    {
      "cell_type": "markdown",
      "metadata": {
        "id": "HDKHKUKuQLYz"
      },
      "source": [
        "Добро пожаловать!\n",
        "Мой  проект по изучению сильных и модальных глаголов в немецком языке представляет собой важный шаг в освоении этого сложного, но прекрасного языка.\n",
        "Цель проекта: Главная цель этого проекта - помочь вам лучше понять и использовать сильные и модальные глаголы в немецком языке. Это ключевой элемент грамматики, который поможет вам строить более сложные и точные предложения."
      ]
    },
    {
      "cell_type": "code",
      "execution_count": null,
      "metadata": {
        "colab": {
          "base_uri": "https://localhost:8080/"
        },
        "id": "rY9UsMpHQLZC",
        "outputId": "ef2a1db7-05bf-46ee-ea3a-169c8b35135c"
      },
      "outputs": [],
      "source": [
        "pip install telebot"
      ]
    },
    {
      "cell_type": "code",
      "execution_count": null,
      "metadata": {
        "colab": {
          "base_uri": "https://localhost:8080/"
        },
        "id": "Vc4NT1RtXcnM",
        "outputId": "fc0da90a-c6c4-4c22-f7ae-6b474a7450d2"
      },
      "outputs": [],
      "source": [
        "pip install gTTS"
      ]
    },
    {
      "cell_type": "code",
      "execution_count": 5,
      "metadata": {
        "colab": {
          "base_uri": "https://localhost:8080/"
        },
        "id": "opVrvsVJjlQ_",
        "outputId": "0b5f1a97-6a04-4edf-c5ea-13dacff0d879"
      },
      "outputs": [
        {
          "name": "stdout",
          "output_type": "stream",
          "text": [
            "Requirement already satisfied: pyTelegramBotAPI in c:\\users\\user\\anaconda3\\envs\\verb_deutsch_bot\\lib\\site-packages (4.14.0)\n",
            "Requirement already satisfied: requests in c:\\users\\user\\anaconda3\\envs\\verb_deutsch_bot\\lib\\site-packages (from pyTelegramBotAPI) (2.31.0)\n",
            "Requirement already satisfied: charset-normalizer<4,>=2 in c:\\users\\user\\anaconda3\\envs\\verb_deutsch_bot\\lib\\site-packages (from requests->pyTelegramBotAPI) (3.3.2)\n",
            "Requirement already satisfied: idna<4,>=2.5 in c:\\users\\user\\anaconda3\\envs\\verb_deutsch_bot\\lib\\site-packages (from requests->pyTelegramBotAPI) (3.4)\n",
            "Requirement already satisfied: urllib3<3,>=1.21.1 in c:\\users\\user\\anaconda3\\envs\\verb_deutsch_bot\\lib\\site-packages (from requests->pyTelegramBotAPI) (2.1.0)\n",
            "Requirement already satisfied: certifi>=2017.4.17 in c:\\users\\user\\anaconda3\\envs\\verb_deutsch_bot\\lib\\site-packages (from requests->pyTelegramBotAPI) (2023.11.17)\n",
            "Note: you may need to restart the kernel to use updated packages.\n"
          ]
        }
      ],
      "source": [
        "pip install --upgrade pyTelegramBotAPI"
      ]
    },
    {
      "cell_type": "code",
      "execution_count": 6,
      "metadata": {
        "colab": {
          "base_uri": "https://localhost:8080/",
          "height": 355
        },
        "id": "OVR6ERfkQLZE",
        "outputId": "2f68ba0f-3f5c-42b2-941b-3983bac62109"
      },
      "outputs": [],
      "source": [
        "# рабочеесообщения с аудио с предложениями\n",
        "import telebot\n",
        "from telebot import types\n",
        "import pandas as pd\n",
        "from gtts import gTTS\n",
        "import os\n",
        "\n",
        "bot = telebot.TeleBot(\"TOKEN\")\n",
        "\n",
        "# Загрузите ваши данные здесь\n",
        "data3 = pd.read_excel('data3.xlsx', header=0)  # Замените 'your_data.csv' на путь к вашему файлу данных\n",
        "data3 = data3.rename(columns={5: 'level'})\n",
        "\n",
        "@bot.message_handler(commands=['start'])\n",
        "def send_welcome(message):\n",
        "    markup = types.ReplyKeyboardMarkup(row_width=2)\n",
        "    itembtn1 = types.KeyboardButton('A1')\n",
        "    itembtn2 = types.KeyboardButton('A2')\n",
        "    itembtn3 = types.KeyboardButton('B1')\n",
        "    itembtn4 = types.KeyboardButton('B2')\n",
        "    itembtn5 = types.KeyboardButton('C1')\n",
        "    markup.add(itembtn1, itembtn2, itembtn3, itembtn4, itembtn5)\n",
        "    bot.send_message(message.chat.id, \"Привет! Давай начнем изучение сильных глаголов с помощью предложений. Выберите свой уровень немецкого языка\", reply_markup=markup)\n",
        "\n",
        "user_data = {}\n",
        "\n",
        "@bot.message_handler(func=lambda message: True)\n",
        "def echo_all(message):\n",
        "    if message.text in ['A1', 'A2', 'B1', 'B2', 'C1']:\n",
        "        user_data[message.chat.id] = {'level': message.text}\n",
        "        markup = types.ReplyKeyboardMarkup(row_width=2)\n",
        "        itembtn1 = types.KeyboardButton('Простые предложения')\n",
        "        itembtn2 = types.KeyboardButton('Сложные предложения')\n",
        "        itembtn3 = types.KeyboardButton('Закончить обучение')  # Добавляем кнопку \"Закончить обучение\"\n",
        "        markup.add(itembtn1, itembtn2, itembtn3)\n",
        "        bot.send_message(message.chat.id, f\"Выбран уровень: {message.text}. \\nВыбери сложность предложений\", reply_markup=markup)\n",
        "\n",
        "    elif message.text.lower() == 'закончить обучение':\n",
        "        bot.send_message(message.chat.id, \"Обучение завершено. Спасибо за участие! Хотите начать заново, нажмите кнопку /start\")\n",
        "\n",
        "    elif message.text == 'Простые предложения':\n",
        "        level = user_data[message.chat.id]['level']\n",
        "        data = data3[(data3['level'] == level)]\n",
        "        for _ in range(1):  # Повторяем 1 раз\n",
        "            row = data.sample(1)\n",
        "            german_sentence = f\"{row.iloc[0, 0]} {row.iloc[0, 1]} {row.iloc[0, 2]} {row.iloc[0, 3]}\"\n",
        "            translation = row.iloc[0, 4]\n",
        "\n",
        "            # Отправляем немецкое предложение\n",
        "            bot.send_message(message.chat.id, f\"Глагол: {row.iloc[0, 0]} // {row.iloc[0, 1]} // {row.iloc[0, 2]} // {row.iloc[0, 3]}. Перевод: {translation}\")\n",
        "\n",
        "            # Отправляем русское предложение\n",
        "            for i in range(7, 14, 6):\n",
        "                for j in range(2):\n",
        "                    answer = row.iloc[0, i+j]\n",
        "                    bot.send_message(message.chat.id, answer)\n",
        "\n",
        "                  # Создаем аудиофайл после отправки немецкого предложения\n",
        "            #german_sentence = row.iloc[0, 13]  # Получаем немецкое предложение из 14-го столбца\n",
        "            tts = gTTS(text=row.iloc[0, 13], lang='de')\n",
        "            filename = \"Partizip II (прошлое).mp3\"\n",
        "            tts.save(filename)\n",
        "            audio = open(filename, 'rb')\n",
        "            bot.send_audio(message.chat.id, audio)\n",
        "            audio.close()\n",
        "            os.remove(filename)\n",
        "\n",
        "    elif message.text == 'Сложные предложения':\n",
        "        level = user_data[message.chat.id]['level']\n",
        "        data = data3[(data3['level'] == level)]\n",
        "        for _ in range(1):  # Повторяем 1 раз\n",
        "            row = data.sample(1)\n",
        "            german_sentence = f\"{row.iloc[0, 0]} {row.iloc[0, 1]} {row.iloc[0, 2]} {row.iloc[0, 3]}\"\n",
        "            translation = row.iloc[0, 4]\n",
        "\n",
        "            # Отправляем немецкое предложение\n",
        "            bot.send_message(message.chat.id, f\"Глагол: {row.iloc[0, 0]} // {row.iloc[0, 1]} // {row.iloc[0, 2]} // {row.iloc[0, 3]}. Перевод: {translation}\")\n",
        "\n",
        "            # Отправляем русское предложение\n",
        "            for i in range(16, 24, 6):\n",
        "                for j in range(2):\n",
        "                    answer = row.iloc[0, i+j]\n",
        "                    bot.send_message(message.chat.id, answer)\n",
        "\n",
        "                  # Создаем аудиофайл после отправки немецкого предложения\n",
        "            #german_sentence = row.iloc[0, 13]  # Получаем немецкое предложение из 14-го столбца\n",
        "            tts = gTTS(text=row.iloc[0, 22], lang='de')\n",
        "            filename = \"Partizip II (прошлое).mp3\"\n",
        "            tts.save(filename)\n",
        "            audio = open(filename, 'rb')\n",
        "            bot.send_audio(message.chat.id, audio)\n",
        "            audio.close()\n",
        "            os.remove(filename)\n",
        "\n",
        "\n",
        "bot.polling()\n"
      ]
    }
  ],
  "metadata": {
    "colab": {
      "provenance": []
    },
    "kernelspec": {
      "display_name": "bot",
      "language": "python",
      "name": "python3"
    },
    "language_info": {
      "codemirror_mode": {
        "name": "ipython",
        "version": 3
      },
      "file_extension": ".py",
      "mimetype": "text/x-python",
      "name": "python",
      "nbconvert_exporter": "python",
      "pygments_lexer": "ipython3",
      "version": "3.9.18"
    }
  },
  "nbformat": 4,
  "nbformat_minor": 0
}
